{
 "cells": [
  {
   "cell_type": "code",
   "execution_count": 2,
   "metadata": {},
   "outputs": [],
   "source": [
    "import pandas as pd\n",
    "\n",
    "def dividir_por_temporadas(dataframe: pd.DataFrame, temporada):\n",
    "    partidos_de_temporada = dataframe[dataframe[\"SEASON\"] == temporada]\n",
    "    partidos_de_temporada.to_csv(\"Datos_Formateados/\"+str(temporada)+\".csv\")\n",
    "    return\n",
    "    \n",
    "dataframe_games = pd.read_csv(\"games.csv\")\n",
    "temporada = 2003\n",
    "while temporada < 2023:\n",
    "    dividir_por_temporadas(dataframe=dataframe_games, temporada=temporada)\n",
    "    temporada += 1"
   ]
  }
 ],
 "metadata": {
  "kernelspec": {
   "display_name": ".venv",
   "language": "python",
   "name": "python3"
  },
  "language_info": {
   "codemirror_mode": {
    "name": "ipython",
    "version": 3
   },
   "file_extension": ".py",
   "mimetype": "text/x-python",
   "name": "python",
   "nbconvert_exporter": "python",
   "pygments_lexer": "ipython3",
   "version": "3.8.10"
  }
 },
 "nbformat": 4,
 "nbformat_minor": 2
}
